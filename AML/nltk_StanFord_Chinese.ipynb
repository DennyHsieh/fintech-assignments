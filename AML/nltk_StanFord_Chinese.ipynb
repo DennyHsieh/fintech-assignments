{
 "cells": [
  {
   "cell_type": "code",
   "execution_count": null,
   "metadata": {},
   "outputs": [],
   "source": [
    "\"\"\"\n",
    "# Command line\n",
    "D:\n",
    "cd Backup\\fintech-assignments\\AML\\stanford-corenlp-full-2018-10-05\n",
    "\n",
    "english\n",
    "java -mx4g -cp \"*\" edu.stanford.nlp.pipeline.StanfordCoreNLPServer -preload tokenize,ssplit,pos,lemma,ner,parse,depparse -status_port 9000 -port 9000 -timeout 50000 & \n",
    "\n",
    "chinese:\n",
    "java -Xmx4g -cp \"*\" edu.stanford.nlp.pipeline.StanfordCoreNLPServer -serverProperties StanfordCoreNLP-chinese.properties -preload tokenize,ssplit,pos,lemma,ner,parse -status_port 9001  -port 9001 -timeout 50000\n",
    "\n",
    "\n",
    "# Set environment variable\n",
    "os.environ['STANFORD_MODELS'] = './stanford-corenlp-full-2018-10-05'\n",
    "os.environ['CLASSPATH'] = './stanford-corenlp-full-2018-10-05/stanford-corenlp-3.9.2'\n",
    "os.environ[\"JAVA_HOME\"] = r'D:\\Java\\jre1.8.0_211'\n",
    "\"\"\""
   ]
  },
  {
   "cell_type": "code",
   "execution_count": 1,
   "metadata": {},
   "outputs": [],
   "source": [
    "import os\n",
    "import re \n",
    "import jieba\n",
    "import pandas as pd\n",
    "from opencc import OpenCC\n",
    "from nltk.parse import CoreNLPParser"
   ]
  },
  {
   "cell_type": "code",
   "execution_count": null,
   "metadata": {
    "scrolled": true
   },
   "outputs": [],
   "source": [
    "df = pd.read_csv(os.path.join('crawl_data_csv', 'news_data.csv'))\n",
    "df.head()"
   ]
  },
  {
   "cell_type": "code",
   "execution_count": 2,
   "metadata": {},
   "outputs": [],
   "source": [
    "parser = CoreNLPParser(url = 'http://localhost:9001', tagtype = 'ner')   # tagtype = 'pos' or 'ner'"
   ]
  },
  {
   "cell_type": "code",
   "execution_count": 6,
   "metadata": {},
   "outputs": [
    {
     "name": "stdout",
     "output_type": "stream",
     "text": [
      "['高雄醫學大學去年7月校務會議通過對第16屆董事會在8、9年前，數度修改捐助章程，不實登載「陳啟川為創辦人」，經提起偽造文書訴訟，5日首度在高雄地檢署開庭。', '高醫大董事會5日則聲明，無任何偽造文書事實，已故陳啟川先生捐出10餘甲土地，讓高醫大順利設校史實不容抹煞；高醫現有土地所有權狀大部分登載轉移原因為「捐贈」，是由陳啟川母親擔任董事長的南和興產公司捐贈。']\n"
     ]
    }
   ],
   "source": [
    "content = '高雄醫學大學去年7月校務會議通過對第16屆董事會在8、9年前，數度修改捐助章程，不實登載「陳啟川為創辦人」，經提起偽造文書訴訟，5日首度在高雄地檢署開庭。10多位校友趕來聲援，拉布條、高喊「解散董事會」。高醫大董事會5日則聲明，無任何偽造文書事實，已故陳啟川先生捐出10餘甲土地，讓高醫大順利設校史實不容抹煞；高醫現有土地所有權狀大部分登載轉移原因為「捐贈」，是由陳啟川母親擔任董事長的南和興產公司捐贈。高醫大校友藍傳盛表示，台灣省教育廳1954年函轉教育部案由「私立高雄醫學院創辦人杜聰明呈送設院事項」，附件即載明杜聰明詳細履歷及擬聘董事名單，因此學校創辦人為杜聰明毫無疑問，校友會立場支持學校提告。'\n",
    "keyword = '偽造文書'\n",
    "sentences = []\n",
    "for key in re.finditer(keyword, content):\n",
    "    end_list = ['。', '！', '!', '？', '?']\n",
    "    sentence_start = 0\n",
    "    sentence_end = len(content) - 1\n",
    "    for end in end_list:\n",
    "        dis_to_keystart = content[:key.start()][::-1].find(end)\n",
    "        if dis_to_keystart != -1: sentence_start = max(sentence_start, key.start() - dis_to_keystart) \n",
    "        dis_to_keyend = content[key.end():].find(end)\n",
    "        if dis_to_keyend != -1: sentence_end = min(sentence_end, key.end() + dis_to_keyend)\n",
    "    \n",
    "    sentences.append(content[sentence_start: sentence_end+1])\n",
    "\n",
    "print(sentences)"
   ]
  },
  {
   "cell_type": "code",
   "execution_count": 7,
   "metadata": {},
   "outputs": [
    {
     "name": "stderr",
     "output_type": "stream",
     "text": [
      "Building prefix dict from the default dictionary ...\n",
      "Loading model from cache C:\\Users\\孟均\\AppData\\Local\\Temp\\jieba.cache\n",
      "Loading model cost 2.635 seconds.\n",
      "Prefix dict has been built succesfully.\n"
     ]
    },
    {
     "name": "stdout",
     "output_type": "stream",
     "text": [
      "nltk_cut: ['高雄', '医学', '大学', '去年', '7月', '校务', '会议', '通过', '对第', '16', '届', '董事会', '在', '8', '、', '9', '年', '前', '，', '数度', '修改', '捐助', '章程', '，', '不实', '登载', '「', '陈启川', '为', '创办人', '」', '，', '经', '提起', '伪造', '文书', '诉讼', '，', '5', '日', '首', '度', '在', '高雄', '地检署', '开庭', '。'] \n",
      "\n",
      "jieba_cut: ['高雄医学', '大学', '去年', '7', '月', '校务', '会议', '通过', '对', '第', '16', '届', '董事会', '在', '8', '、', '9', '年前', '，', '数度', '修改', '捐助', '章程', '，', '不', '实', '登载', '「', '陈启川', '为', '创办人', '」', '，', '经', '提起', '伪造文书', '诉讼', '，', '5', '日', '首度', '在', '高雄地', '检署', '开庭', '。'] \n",
      "\n",
      "nltk_tag: [('高雄', 'ORGANIZATION'), ('医学', 'ORGANIZATION'), ('大学', 'ORGANIZATION'), ('去年', 'DATE'), ('7月', 'DATE'), ('校务', 'O'), ('会议', 'O'), ('通过', 'O'), ('对第', 'MISC'), ('16', 'NUMBER'), ('届', 'MISC'), ('董事会', 'MISC'), ('在', 'O'), ('8', 'NUMBER'), ('、', 'MISC'), ('9', 'NUMBER'), ('年', 'MISC'), ('前', 'MISC'), ('，', 'O'), ('数度', 'O'), ('修改', 'O'), ('捐助', 'O'), ('章程', 'O'), ('，', 'O'), ('不实', 'O'), ('登载', 'O'), ('「', 'O'), ('陈启川', 'PERSON'), ('为', 'O'), ('创办人', 'O'), ('」', 'O'), ('，', 'O'), ('经', 'O'), ('提起', 'O'), ('伪造', 'O'), ('文书', 'O'), ('诉讼', 'O'), ('，', 'O'), ('5', 'NUMBER'), ('日', 'MISC'), ('首', 'ORDINAL'), ('度', 'O'), ('在', 'O'), ('高雄', 'ORGANIZATION'), ('地检署', 'ORGANIZATION'), ('开庭', 'O'), ('。', 'O')] \n",
      "\n",
      "['高雄医学大学', '高雄地检署'] \n",
      "\n",
      "['陈启川'] \n",
      "\n",
      "nltk_cut: ['高', '医大', '董事会', '5', '日', '则', '声明', '，', '无', '任何', '伪造', '文书', '事实', '，', '已', '故', '陈启川', '先生', '捐出', '10', '余', '甲', '土地', '，', '让', '高', '医大', '顺利', '设', '校史', '实', '不容', '抹煞', '；', '高医', '现有', '土地', '所有', '权状', '大部分', '登载', '转移', '原', '因为', '「', '捐赠', '」', '，', '是', '由', '陈启川', '母亲', '担任', '董事长', '的', '南和', '兴产', '公司', '捐赠', '。'] \n",
      "\n",
      "jieba_cut: ['高', '医大', '董事会', '5', '日', '则声明', '，', '无', '任何', '伪造文书', '事实', '，', '已故', '陈启川', '先生', '捐出', '10', '余甲', '土地', '，', '让', '高', '医大', '顺利', '设校', '史实', '不容', '抹煞', '；', '高医', '现有', '土地', '所有权状', '大部分', '登载', '转移', '原因', '为', '「', '捐赠', '」', '，', '是', '由', '陈启川', '母亲', '担任', '董事长', '的', '南', '和', '兴产', '公司', '捐赠', '。'] \n",
      "\n",
      "nltk_tag: [('高', 'O'), ('医大', 'O'), ('董事会', 'O'), ('5', 'NUMBER'), ('日', 'MISC'), ('则', 'O'), ('声明', 'O'), ('，', 'O'), ('无', 'O'), ('任何', 'O'), ('伪造', 'O'), ('文书', 'O'), ('事实', 'O'), ('，', 'O'), ('已', 'O'), ('故', 'O'), ('陈启川', 'PERSON'), ('先生', 'O'), ('捐出', 'O'), ('10', 'NUMBER'), ('余', 'O'), ('甲', 'NUMBER'), ('土地', 'O'), ('，', 'O'), ('让', 'O'), ('高', 'O'), ('医大', 'O'), ('顺利', 'O'), ('设', 'O'), ('校史', 'O'), ('实', 'O'), ('不容', 'O'), ('抹煞', 'O'), ('；', 'O'), ('高医', 'O'), ('现有', 'O'), ('土地', 'O'), ('所有', 'O'), ('权状', 'O'), ('大部分', 'NUMBER'), ('登载', 'O'), ('转移', 'O'), ('原', 'O'), ('因为', 'O'), ('「', 'O'), ('捐赠', 'O'), ('」', 'O'), ('，', 'O'), ('是', 'O'), ('由', 'O'), ('陈启川', 'PERSON'), ('母亲', 'O'), ('担任', 'O'), ('董事长', 'TITLE'), ('的', 'O'), ('南和', 'ORGANIZATION'), ('兴产', 'ORGANIZATION'), ('公司', 'ORGANIZATION'), ('捐赠', 'O'), ('。', 'O')] \n",
      "\n",
      "['南和兴产公司'] \n",
      "\n",
      "['陈启川', '陈启川'] \n",
      "\n"
     ]
    }
   ],
   "source": [
    "# (Optional) convert from Simplified Chinese to Traditional Chinese\n",
    "cc = OpenCC('t2s') \n",
    "for sentence in sentences:\n",
    "    sentence = cc.convert(sentence)\n",
    "    nltk_cut = list(parser.tokenize(sentence))\n",
    "    jieba_cut = list(jieba.cut(sentence, cut_all = False))\n",
    "    print('nltk_cut:', nltk_cut, '\\n')\n",
    "    print('jieba_cut:', jieba_cut, '\\n')\n",
    "    \n",
    "    nltk_tag = list(parser.tag(nltk_cut))\n",
    "    print('nltk_tag:', nltk_tag, '\\n')\n",
    "    \n",
    "    per = []\n",
    "    org = []\n",
    "    for wordtag_pair in nltk_tag:\n",
    "        index = nltk_tag.index(wordtag_pair)\n",
    "        \n",
    "        word = wordtag_pair[0]\n",
    "        tag = wordtag_pair[1]\n",
    "        if tag == 'PERSON':\n",
    "            if nltk_tag[index-1][1] == 'PERSON': per[-1] += word\n",
    "            else: per.append(word)\n",
    "            \n",
    "        if tag == 'ORGANIZATION':\n",
    "            if nltk_tag[index-1][1] == 'ORGANIZATION': org[-1] += word\n",
    "            else: org.append(word)\n",
    "        \n",
    "    print(org, '\\n')\n",
    "    print(per, '\\n')\n",
    "    \n",
    "    # nltk_sentence = list(parser.parse(nltk_cut))\n",
    "    # print('nltk_tag:', nltk_sentence, '\\n''\\n')"
   ]
  },
  {
   "cell_type": "code",
   "execution_count": 14,
   "metadata": {},
   "outputs": [
    {
     "name": "stdout",
     "output_type": "stream",
     "text": [
      "nltk_tag: [Tree('ROOT', [Tree('IP', [Tree('NP', [Tree('NP', [Tree('ADJP', [Tree('JJ', ['高'])]), Tree('NP', [Tree('NN', ['医大'])])]), Tree('NP', [Tree('NN', ['董事会'])])]), Tree('QP', [Tree('CD', ['5']), Tree('CLP', [Tree('M', ['日'])])]), Tree('VP', [Tree('ADVP', [Tree('AD', ['则'])]), Tree('VP', [Tree('VV', ['声明']), Tree('PU', ['，']), Tree('IP', [Tree('IP', [Tree('IP', [Tree('VP', [Tree('VE', ['无']), Tree('NP', [Tree('DP', [Tree('DT', ['任何'])]), Tree('CP', [Tree('IP', [Tree('VP', [Tree('VV', ['伪造'])])])]), Tree('NP', [Tree('NN', ['文书']), Tree('NN', ['事实'])])])])]), Tree('PU', ['，']), Tree('VP', [Tree('ADVP', [Tree('AD', ['已'])]), Tree('VP', [Tree('VV', ['故']), Tree('IP', [Tree('NP', [Tree('NR', ['陈启川']), Tree('NN', ['先生'])]), Tree('VP', [Tree('VV', ['捐出']), Tree('NP', [Tree('NP', [Tree('QP', [Tree('CD', ['10'])]), Tree('NP', [Tree('NN', ['余'])])]), Tree('QP', [Tree('CD', ['甲'])]), Tree('NP', [Tree('NN', ['土地'])])])])])])])]), Tree('PU', ['，']), Tree('IP', [Tree('VP', [Tree('VV', ['让']), Tree('NP', [Tree('ADJP', [Tree('JJ', ['高'])]), Tree('NP', [Tree('NN', ['医大'])])]), Tree('IP', [Tree('VP', [Tree('VP', [Tree('ADVP', [Tree('AD', ['顺利'])]), Tree('VP', [Tree('VV', ['设']), Tree('NP', [Tree('NN', ['校史']), Tree('NN', ['实'])])])]), Tree('VP', [Tree('VV', ['不容']), Tree('NP', [Tree('NN', ['抹煞'])])])])])])]), Tree('PU', ['；']), Tree('IP', [Tree('NP', [Tree('NP', [Tree('NP', [Tree('NN', ['高医'])]), Tree('ADJP', [Tree('JJ', ['现有'])]), Tree('NP', [Tree('NN', ['土地'])])]), Tree('DP', [Tree('DT', ['所有'])]), Tree('NP', [Tree('NN', ['权状'])])]), Tree('VP', [Tree('QP', [Tree('CD', ['大部分'])]), Tree('VP', [Tree('VV', ['登载']), Tree('IP', [Tree('VP', [Tree('VV', ['转移']), Tree('IP', [Tree('ADJP', [Tree('JJ', ['原'])]), Tree('PP', [Tree('P', ['因为']), Tree('NP', [Tree('PU', ['「']), Tree('NN', ['捐赠']), Tree('PU', ['」'])])]), Tree('PU', ['，']), Tree('VP', [Tree('VC', ['是']), Tree('IP', [Tree('NP', [Tree('CP', [Tree('IP', [Tree('VP', [Tree('PP', [Tree('P', ['由']), Tree('NP', [Tree('NR', ['陈启川']), Tree('NN', ['母亲'])])]), Tree('VP', [Tree('VV', ['担任']), Tree('NP', [Tree('NN', ['董事长'])])])])]), Tree('DEC', ['的'])]), Tree('NP', [Tree('NR', ['南和'])]), Tree('NP', [Tree('NN', ['兴产']), Tree('NN', ['公司'])])]), Tree('VP', [Tree('VV', ['捐赠'])])])])])])])])])])])])]), Tree('PU', ['。'])])])] \n",
      "\n",
      "\n"
     ]
    }
   ],
   "source": [
    "nltk_sentence = list(parser.parse(nltk_cut))\n",
    "print('nltk_tag:', nltk_sentence, '\\n''\\n')"
   ]
  },
  {
   "cell_type": "code",
   "execution_count": 15,
   "metadata": {},
   "outputs": [],
   "source": [
    "for line in nltk_sentence:\n",
    "    for sentence in line:\n",
    "        sentence.draw()"
   ]
  }
 ],
 "metadata": {
  "kernelspec": {
   "display_name": "Python 3",
   "language": "python",
   "name": "python3"
  },
  "language_info": {
   "codemirror_mode": {
    "name": "ipython",
    "version": 3
   },
   "file_extension": ".py",
   "mimetype": "text/x-python",
   "name": "python",
   "nbconvert_exporter": "python",
   "pygments_lexer": "ipython3",
   "version": "3.7.3"
  }
 },
 "nbformat": 4,
 "nbformat_minor": 2
}

{
 "cells": [
  {
   "cell_type": "code",
   "execution_count": null,
   "metadata": {},
   "outputs": [],
   "source": [
    "from selenium import webdriver\n",
    "from selenium.webdriver.common.keys import Keys\n",
    "import time\n",
    "from selenium.webdriver.chrome.options import Options\n",
    "#例項化一個Options\n",
    "chrome_options = Options()\n",
    "#用於定義下載不彈窗和預設下載地址（預設下載地址還要再後面的commands裡啟動，預設是不開啟的）\n",
    "prefs = {\"download.default_directory\": \"/Users/hanwu/Documents/學習生涯/107-2臺大財金碩一下/107-2文字探勘/Govt_web_crawl/word\",\"download.prompt_for_download\": False,}\n",
    "chrome_options.add_experimental_option(\"prefs\", prefs)\n",
    "for i in range(10):\n",
    "    driver = webdriver.Chrome()\n",
    "    UserName = \"Creat an account\"\n",
    "    UserPass = \"YOUR PASSWORD\"\n",
    "    driver.get(\"https://lawsnote.com/search/all/洗錢防制法/2\")\n",
    "    driver.find_element_by_class_name('action-bar__login-button').click()\n",
    "    driver.find_element_by_id('email').send_keys(UserName)\n",
    "    driver.find_element_by_id('password').send_keys(UserPass)\n",
    "    driver.find_element_by_class_name('email-sign-in-submit').click()\n",
    "    time.sleep(2)\n",
    "    driver.find_elements_by_class_name('search-result__item-link')[i].click()\n",
    "    time.sleep(3)\n",
    "    driver.find_element_by_class_name('download-button').click()\n",
    "    time.sleep(4)\n",
    "    driver.quit()"
   ]
  }
 ],
 "metadata": {
  "kernelspec": {
   "display_name": "Python 3",
   "language": "python",
   "name": "python3"
  },
  "language_info": {
   "codemirror_mode": {
    "name": "ipython",
    "version": 3
   },
   "file_extension": ".py",
   "mimetype": "text/x-python",
   "name": "python",
   "nbconvert_exporter": "python",
   "pygments_lexer": "ipython3",
   "version": "3.7.1"
  }
 },
 "nbformat": 4,
 "nbformat_minor": 2
}
